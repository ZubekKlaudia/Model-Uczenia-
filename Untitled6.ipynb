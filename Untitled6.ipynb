{
  "nbformat": 4,
  "nbformat_minor": 0,
  "metadata": {
    "colab": {
      "provenance": [],
      "authorship_tag": "ABX9TyM4wsphmR/cbGvx+lhWbOtV",
      "include_colab_link": true
    },
    "kernelspec": {
      "name": "python3",
      "display_name": "Python 3"
    },
    "language_info": {
      "name": "python"
    }
  },
  "cells": [
    {
      "cell_type": "markdown",
      "metadata": {
        "id": "view-in-github",
        "colab_type": "text"
      },
      "source": [
        "<a href=\"https://colab.research.google.com/github/ZubekKlaudia/Model-Uczenia-/blob/main/Untitled6.ipynb\" target=\"_parent\"><img src=\"https://colab.research.google.com/assets/colab-badge.svg\" alt=\"Open In Colab\"/></a>"
      ]
    },
    {
      "cell_type": "code",
      "execution_count": null,
      "metadata": {
        "id": "5DvmV060LIeC"
      },
      "outputs": [],
      "source": [
        "from sklearn.datasets import load_sample_images\n",
        "import tensorflow as tf"
      ]
    },
    {
      "cell_type": "code",
      "source": [
        "images = load_sample_images()[\"images\"]\n",
        "images = tf.keras.layers.CenterCrop(height = 70, width= 120)(images)\n",
        "images = tf.keras.layers.Rescaling(scale=1/255)(images)"
      ],
      "metadata": {
        "id": "15jiuejvLRdh"
      },
      "execution_count": null,
      "outputs": []
    },
    {
      "cell_type": "code",
      "source": [
        "images.shape"
      ],
      "metadata": {
        "colab": {
          "base_uri": "https://localhost:8080/"
        },
        "id": "4FSc3_hVLwfC",
        "outputId": "6ba0e705-055b-492d-9677-4edb6eb30dd1"
      },
      "execution_count": null,
      "outputs": [
        {
          "output_type": "execute_result",
          "data": {
            "text/plain": [
              "TensorShape([2, 70, 120, 3])"
            ]
          },
          "metadata": {},
          "execution_count": 4
        }
      ]
    },
    {
      "cell_type": "code",
      "source": [
        "conv_layer = tf.keras.layers.Conv2D(filters=32, kernel_size=7)\n",
        "fmaps=conv_layer(images)"
      ],
      "metadata": {
        "id": "a78D6kA_MG0h"
      },
      "execution_count": null,
      "outputs": []
    },
    {
      "cell_type": "code",
      "source": [
        "fmaps.shape"
      ],
      "metadata": {
        "colab": {
          "base_uri": "https://localhost:8080/"
        },
        "id": "AZ_wW2W-MhDQ",
        "outputId": "bcd5a0a3-26d9-4ae0-97e6-4d841e435c77"
      },
      "execution_count": null,
      "outputs": [
        {
          "output_type": "execute_result",
          "data": {
            "text/plain": [
              "TensorShape([2, 64, 114, 32])"
            ]
          },
          "metadata": {},
          "execution_count": 7
        }
      ]
    },
    {
      "cell_type": "code",
      "source": [
        "conv_layer = tf.keras.layers.Conv2D(filters=32,kernel_size=7, padding=\"same\")"
      ],
      "metadata": {
        "id": "kajY-ZikM8Sw"
      },
      "execution_count": null,
      "outputs": []
    },
    {
      "cell_type": "code",
      "source": [
        "fmaps=conv_layer(images)\n",
        "fmaps.shape"
      ],
      "metadata": {
        "colab": {
          "base_uri": "https://localhost:8080/"
        },
        "id": "vl00_wdlNRDw",
        "outputId": "5553d662-05fc-4326-9f77-fbb57f4bdcdd"
      },
      "execution_count": null,
      "outputs": [
        {
          "output_type": "execute_result",
          "data": {
            "text/plain": [
              "TensorShape([2, 70, 120, 32])"
            ]
          },
          "metadata": {},
          "execution_count": 10
        }
      ]
    },
    {
      "cell_type": "code",
      "source": [
        "kernels, biases = conv_layer.get_weights()\n",
        "kernels.shape"
      ],
      "metadata": {
        "colab": {
          "base_uri": "https://localhost:8080/"
        },
        "id": "Im5jCHv1OLHw",
        "outputId": "93e64b76-b8d5-440b-c6a7-dec2ba219bd1"
      },
      "execution_count": null,
      "outputs": [
        {
          "output_type": "execute_result",
          "data": {
            "text/plain": [
              "(7, 7, 3, 32)"
            ]
          },
          "metadata": {},
          "execution_count": 12
        }
      ]
    },
    {
      "cell_type": "code",
      "source": [
        "biases.shape"
      ],
      "metadata": {
        "colab": {
          "base_uri": "https://localhost:8080/"
        },
        "id": "V_ScTeirOUQf",
        "outputId": "33be016b-6913-4bfc-f628-94d7761ab695"
      },
      "execution_count": null,
      "outputs": [
        {
          "output_type": "execute_result",
          "data": {
            "text/plain": [
              "(32,)"
            ]
          },
          "metadata": {},
          "execution_count": 13
        }
      ]
    },
    {
      "cell_type": "code",
      "source": [
        "max_pool=tf.keras.layers.MaxPool2D(pool_size=2)"
      ],
      "metadata": {
        "id": "0kH9JgXeQjN4"
      },
      "execution_count": null,
      "outputs": []
    },
    {
      "cell_type": "code",
      "source": [
        "class DepthPool(tf.keras.layers.Layer):\n",
        "  def _init_(self,pool_size=2, **kwargs):\n",
        "    super()._init_(**kwargs)\n",
        "    self.pool_size=pool_size\n",
        "\n",
        "  def call(self,inputs):\n",
        "    shape=tf.shape(inputs)\n",
        "    groups=shape[-1]\n",
        "    new_shape=tf.concat([shape[:-1],[groups,self.pool_size]],axis=0)\n",
        "    return tf.reduce_max(tf.reshape(inputs,new_shape),axis=-1)\n"
      ],
      "metadata": {
        "id": "ykPC_aqlRJdA"
      },
      "execution_count": null,
      "outputs": []
    }
  ]
}